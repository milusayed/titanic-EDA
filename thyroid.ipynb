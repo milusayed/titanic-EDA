{
 "cells": [
  {
   "cell_type": "code",
   "execution_count": 737,
   "id": "34c6ed21-cd3e-4ba8-b18b-4fcbc5150915",
   "metadata": {},
   "outputs": [],
   "source": [
    "import pandas as pd\n",
    "import numpy as np\n",
    "import matplotlib.pyplot as plt\n",
    "import seaborn as sns\n",
    "import warnings\n",
    "warnings.filterwarnings('ignore')\n",
    "from sklearn.impute import SimpleImputer"
   ]
  },
  {
   "cell_type": "code",
   "execution_count": 738,
   "id": "c10e0d30-04e7-4bb4-980d-de9a76722089",
   "metadata": {},
   "outputs": [],
   "source": [
    "data=pd.read_csv('hypothyroid.csv')"
   ]
  },
  {
   "cell_type": "code",
   "execution_count": 739,
   "id": "ce7ce3f0-cb9d-495e-84ce-cb0f9ef301d0",
   "metadata": {},
   "outputs": [
    {
     "data": {
      "text/html": [
       "<div>\n",
       "<style scoped>\n",
       "    .dataframe tbody tr th:only-of-type {\n",
       "        vertical-align: middle;\n",
       "    }\n",
       "\n",
       "    .dataframe tbody tr th {\n",
       "        vertical-align: top;\n",
       "    }\n",
       "\n",
       "    .dataframe thead th {\n",
       "        text-align: right;\n",
       "    }\n",
       "</style>\n",
       "<table border=\"1\" class=\"dataframe\">\n",
       "  <thead>\n",
       "    <tr style=\"text-align: right;\">\n",
       "      <th></th>\n",
       "      <th>age</th>\n",
       "      <th>sex</th>\n",
       "      <th>on thyroxine</th>\n",
       "      <th>query on thyroxine</th>\n",
       "      <th>on antithyroid medication</th>\n",
       "      <th>sick</th>\n",
       "      <th>pregnant</th>\n",
       "      <th>thyroid surgery</th>\n",
       "      <th>I131 treatment</th>\n",
       "      <th>query hypothyroid</th>\n",
       "      <th>...</th>\n",
       "      <th>TT4 measured</th>\n",
       "      <th>TT4</th>\n",
       "      <th>T4U measured</th>\n",
       "      <th>T4U</th>\n",
       "      <th>FTI measured</th>\n",
       "      <th>FTI</th>\n",
       "      <th>TBG measured</th>\n",
       "      <th>TBG</th>\n",
       "      <th>referral source</th>\n",
       "      <th>binaryClass</th>\n",
       "    </tr>\n",
       "  </thead>\n",
       "  <tbody>\n",
       "    <tr>\n",
       "      <th>0</th>\n",
       "      <td>41</td>\n",
       "      <td>F</td>\n",
       "      <td>f</td>\n",
       "      <td>f</td>\n",
       "      <td>f</td>\n",
       "      <td>f</td>\n",
       "      <td>f</td>\n",
       "      <td>f</td>\n",
       "      <td>f</td>\n",
       "      <td>f</td>\n",
       "      <td>...</td>\n",
       "      <td>t</td>\n",
       "      <td>125</td>\n",
       "      <td>t</td>\n",
       "      <td>1.14</td>\n",
       "      <td>t</td>\n",
       "      <td>109</td>\n",
       "      <td>f</td>\n",
       "      <td>?</td>\n",
       "      <td>SVHC</td>\n",
       "      <td>P</td>\n",
       "    </tr>\n",
       "    <tr>\n",
       "      <th>1</th>\n",
       "      <td>23</td>\n",
       "      <td>F</td>\n",
       "      <td>f</td>\n",
       "      <td>f</td>\n",
       "      <td>f</td>\n",
       "      <td>f</td>\n",
       "      <td>f</td>\n",
       "      <td>f</td>\n",
       "      <td>f</td>\n",
       "      <td>f</td>\n",
       "      <td>...</td>\n",
       "      <td>t</td>\n",
       "      <td>102</td>\n",
       "      <td>f</td>\n",
       "      <td>?</td>\n",
       "      <td>f</td>\n",
       "      <td>?</td>\n",
       "      <td>f</td>\n",
       "      <td>?</td>\n",
       "      <td>other</td>\n",
       "      <td>P</td>\n",
       "    </tr>\n",
       "    <tr>\n",
       "      <th>2</th>\n",
       "      <td>46</td>\n",
       "      <td>M</td>\n",
       "      <td>f</td>\n",
       "      <td>f</td>\n",
       "      <td>f</td>\n",
       "      <td>f</td>\n",
       "      <td>f</td>\n",
       "      <td>f</td>\n",
       "      <td>f</td>\n",
       "      <td>f</td>\n",
       "      <td>...</td>\n",
       "      <td>t</td>\n",
       "      <td>109</td>\n",
       "      <td>t</td>\n",
       "      <td>0.91</td>\n",
       "      <td>t</td>\n",
       "      <td>120</td>\n",
       "      <td>f</td>\n",
       "      <td>?</td>\n",
       "      <td>other</td>\n",
       "      <td>P</td>\n",
       "    </tr>\n",
       "    <tr>\n",
       "      <th>3</th>\n",
       "      <td>70</td>\n",
       "      <td>F</td>\n",
       "      <td>t</td>\n",
       "      <td>f</td>\n",
       "      <td>f</td>\n",
       "      <td>f</td>\n",
       "      <td>f</td>\n",
       "      <td>f</td>\n",
       "      <td>f</td>\n",
       "      <td>f</td>\n",
       "      <td>...</td>\n",
       "      <td>t</td>\n",
       "      <td>175</td>\n",
       "      <td>f</td>\n",
       "      <td>?</td>\n",
       "      <td>f</td>\n",
       "      <td>?</td>\n",
       "      <td>f</td>\n",
       "      <td>?</td>\n",
       "      <td>other</td>\n",
       "      <td>P</td>\n",
       "    </tr>\n",
       "    <tr>\n",
       "      <th>4</th>\n",
       "      <td>70</td>\n",
       "      <td>F</td>\n",
       "      <td>f</td>\n",
       "      <td>f</td>\n",
       "      <td>f</td>\n",
       "      <td>f</td>\n",
       "      <td>f</td>\n",
       "      <td>f</td>\n",
       "      <td>f</td>\n",
       "      <td>f</td>\n",
       "      <td>...</td>\n",
       "      <td>t</td>\n",
       "      <td>61</td>\n",
       "      <td>t</td>\n",
       "      <td>0.87</td>\n",
       "      <td>t</td>\n",
       "      <td>70</td>\n",
       "      <td>f</td>\n",
       "      <td>?</td>\n",
       "      <td>SVI</td>\n",
       "      <td>P</td>\n",
       "    </tr>\n",
       "  </tbody>\n",
       "</table>\n",
       "<p>5 rows × 30 columns</p>\n",
       "</div>"
      ],
      "text/plain": [
       "  age sex on thyroxine query on thyroxine on antithyroid medication sick  \\\n",
       "0  41   F            f                  f                         f    f   \n",
       "1  23   F            f                  f                         f    f   \n",
       "2  46   M            f                  f                         f    f   \n",
       "3  70   F            t                  f                         f    f   \n",
       "4  70   F            f                  f                         f    f   \n",
       "\n",
       "  pregnant thyroid surgery I131 treatment query hypothyroid  ... TT4 measured  \\\n",
       "0        f               f              f                 f  ...            t   \n",
       "1        f               f              f                 f  ...            t   \n",
       "2        f               f              f                 f  ...            t   \n",
       "3        f               f              f                 f  ...            t   \n",
       "4        f               f              f                 f  ...            t   \n",
       "\n",
       "   TT4 T4U measured   T4U FTI measured  FTI TBG measured TBG referral source  \\\n",
       "0  125            t  1.14            t  109            f   ?            SVHC   \n",
       "1  102            f     ?            f    ?            f   ?           other   \n",
       "2  109            t  0.91            t  120            f   ?           other   \n",
       "3  175            f     ?            f    ?            f   ?           other   \n",
       "4   61            t  0.87            t   70            f   ?             SVI   \n",
       "\n",
       "  binaryClass  \n",
       "0           P  \n",
       "1           P  \n",
       "2           P  \n",
       "3           P  \n",
       "4           P  \n",
       "\n",
       "[5 rows x 30 columns]"
      ]
     },
     "execution_count": 739,
     "metadata": {},
     "output_type": "execute_result"
    }
   ],
   "source": [
    "data.head()"
   ]
  },
  {
   "cell_type": "code",
   "execution_count": 740,
   "id": "6c044099-f362-4754-a67c-2ca4a9c14141",
   "metadata": {},
   "outputs": [
    {
     "data": {
      "text/plain": [
       "(3772, 30)"
      ]
     },
     "execution_count": 740,
     "metadata": {},
     "output_type": "execute_result"
    }
   ],
   "source": [
    "data.shape"
   ]
  },
  {
   "cell_type": "code",
   "execution_count": 741,
   "id": "cc1e2667-8d5b-4d46-9e3f-437eaec94f63",
   "metadata": {},
   "outputs": [
    {
     "name": "stdout",
     "output_type": "stream",
     "text": [
      "<class 'pandas.core.frame.DataFrame'>\n",
      "RangeIndex: 3772 entries, 0 to 3771\n",
      "Data columns (total 30 columns):\n",
      " #   Column                     Non-Null Count  Dtype \n",
      "---  ------                     --------------  ----- \n",
      " 0   age                        3772 non-null   object\n",
      " 1   sex                        3772 non-null   object\n",
      " 2   on thyroxine               3772 non-null   object\n",
      " 3   query on thyroxine         3772 non-null   object\n",
      " 4   on antithyroid medication  3772 non-null   object\n",
      " 5   sick                       3772 non-null   object\n",
      " 6   pregnant                   3772 non-null   object\n",
      " 7   thyroid surgery            3772 non-null   object\n",
      " 8   I131 treatment             3772 non-null   object\n",
      " 9   query hypothyroid          3772 non-null   object\n",
      " 10  query hyperthyroid         3772 non-null   object\n",
      " 11  lithium                    3772 non-null   object\n",
      " 12  goitre                     3772 non-null   object\n",
      " 13  tumor                      3772 non-null   object\n",
      " 14  hypopituitary              3772 non-null   object\n",
      " 15  psych                      3772 non-null   object\n",
      " 16  TSH measured               3772 non-null   object\n",
      " 17  TSH                        3772 non-null   object\n",
      " 18  T3 measured                3772 non-null   object\n",
      " 19  T3                         3772 non-null   object\n",
      " 20  TT4 measured               3772 non-null   object\n",
      " 21  TT4                        3772 non-null   object\n",
      " 22  T4U measured               3772 non-null   object\n",
      " 23  T4U                        3772 non-null   object\n",
      " 24  FTI measured               3772 non-null   object\n",
      " 25  FTI                        3772 non-null   object\n",
      " 26  TBG measured               3772 non-null   object\n",
      " 27  TBG                        3772 non-null   object\n",
      " 28  referral source            3772 non-null   object\n",
      " 29  binaryClass                3772 non-null   object\n",
      "dtypes: object(30)\n",
      "memory usage: 884.2+ KB\n"
     ]
    }
   ],
   "source": [
    "data.info()"
   ]
  },
  {
   "cell_type": "code",
   "execution_count": 742,
   "id": "c1bff5e7-3ea8-4bf2-ab40-54a2bb7fc31d",
   "metadata": {
    "scrolled": true
   },
   "outputs": [
    {
     "data": {
      "text/plain": [
       "61"
      ]
     },
     "execution_count": 742,
     "metadata": {},
     "output_type": "execute_result"
    }
   ],
   "source": [
    "data.duplicated().sum()"
   ]
  },
  {
   "cell_type": "code",
   "execution_count": 743,
   "id": "6b82d72e-6c2c-4058-99c7-c5d02a039cc4",
   "metadata": {},
   "outputs": [],
   "source": [
    "data=data.drop_duplicates()"
   ]
  },
  {
   "cell_type": "code",
   "execution_count": 744,
   "id": "8f253d3c-47d0-4192-bf2c-75832cf7f4c1",
   "metadata": {},
   "outputs": [
    {
     "data": {
      "text/plain": [
       "(3711, 30)"
      ]
     },
     "execution_count": 744,
     "metadata": {},
     "output_type": "execute_result"
    }
   ],
   "source": [
    "data.shape"
   ]
  },
  {
   "cell_type": "code",
   "execution_count": 745,
   "id": "9a5b3a70-4fe4-4fa4-9794-3d01072e5207",
   "metadata": {},
   "outputs": [],
   "source": [
    "data.rename(columns={'binaryClass':'Outcome'},inplace=True)\n"
   ]
  },
  {
   "cell_type": "code",
   "execution_count": 746,
   "id": "b88bafa2-5669-46c5-91e9-2a302dcb80c9",
   "metadata": {},
   "outputs": [
    {
     "name": "stdout",
     "output_type": "stream",
     "text": [
      "<class 'pandas.core.frame.DataFrame'>\n",
      "Index: 3711 entries, 0 to 3771\n",
      "Data columns (total 30 columns):\n",
      " #   Column                     Non-Null Count  Dtype \n",
      "---  ------                     --------------  ----- \n",
      " 0   age                        3711 non-null   object\n",
      " 1   sex                        3711 non-null   object\n",
      " 2   on thyroxine               3711 non-null   object\n",
      " 3   query on thyroxine         3711 non-null   object\n",
      " 4   on antithyroid medication  3711 non-null   object\n",
      " 5   sick                       3711 non-null   object\n",
      " 6   pregnant                   3711 non-null   object\n",
      " 7   thyroid surgery            3711 non-null   object\n",
      " 8   I131 treatment             3711 non-null   object\n",
      " 9   query hypothyroid          3711 non-null   object\n",
      " 10  query hyperthyroid         3711 non-null   object\n",
      " 11  lithium                    3711 non-null   object\n",
      " 12  goitre                     3711 non-null   object\n",
      " 13  tumor                      3711 non-null   object\n",
      " 14  hypopituitary              3711 non-null   object\n",
      " 15  psych                      3711 non-null   object\n",
      " 16  TSH measured               3711 non-null   object\n",
      " 17  TSH                        3711 non-null   object\n",
      " 18  T3 measured                3711 non-null   object\n",
      " 19  T3                         3711 non-null   object\n",
      " 20  TT4 measured               3711 non-null   object\n",
      " 21  TT4                        3711 non-null   object\n",
      " 22  T4U measured               3711 non-null   object\n",
      " 23  T4U                        3711 non-null   object\n",
      " 24  FTI measured               3711 non-null   object\n",
      " 25  FTI                        3711 non-null   object\n",
      " 26  TBG measured               3711 non-null   object\n",
      " 27  TBG                        3711 non-null   object\n",
      " 28  referral source            3711 non-null   object\n",
      " 29  Outcome                    3711 non-null   object\n",
      "dtypes: object(30)\n",
      "memory usage: 898.8+ KB\n"
     ]
    }
   ],
   "source": [
    "data.info()"
   ]
  },
  {
   "cell_type": "code",
   "execution_count": 747,
   "id": "f7e10f9e-d3e6-4e7e-95ca-5c5e3a9323d8",
   "metadata": {},
   "outputs": [
    {
     "data": {
      "text/plain": [
       "array(['P', 'N'], dtype=object)"
      ]
     },
     "execution_count": 747,
     "metadata": {},
     "output_type": "execute_result"
    }
   ],
   "source": [
    "data['Outcome'].unique()"
   ]
  },
  {
   "cell_type": "code",
   "execution_count": 748,
   "id": "63a9c600-0cfc-4d37-ac49-f2db60c2dd64",
   "metadata": {},
   "outputs": [],
   "source": [
    "data=data.drop(['TSH measured','T3 measured','TT4 measured','T4U measured','TT4 measured','FTI measured','TBG measured','TBG','referral source','on thyroxine','query on thyroxine','on antithyroid medication','query hypothyroid', 'query hyperthyroid','hypopituitary', 'psych'],axis=1) "
   ]
  },
  {
   "cell_type": "code",
   "execution_count": 749,
   "id": "8aa6039c-6165-47cc-8f82-9bfeae95d285",
   "metadata": {},
   "outputs": [
    {
     "data": {
      "text/html": [
       "<div>\n",
       "<style scoped>\n",
       "    .dataframe tbody tr th:only-of-type {\n",
       "        vertical-align: middle;\n",
       "    }\n",
       "\n",
       "    .dataframe tbody tr th {\n",
       "        vertical-align: top;\n",
       "    }\n",
       "\n",
       "    .dataframe thead th {\n",
       "        text-align: right;\n",
       "    }\n",
       "</style>\n",
       "<table border=\"1\" class=\"dataframe\">\n",
       "  <thead>\n",
       "    <tr style=\"text-align: right;\">\n",
       "      <th></th>\n",
       "      <th>age</th>\n",
       "      <th>sex</th>\n",
       "      <th>sick</th>\n",
       "      <th>pregnant</th>\n",
       "      <th>thyroid surgery</th>\n",
       "      <th>I131 treatment</th>\n",
       "      <th>lithium</th>\n",
       "      <th>goitre</th>\n",
       "      <th>tumor</th>\n",
       "      <th>TSH</th>\n",
       "      <th>T3</th>\n",
       "      <th>TT4</th>\n",
       "      <th>T4U</th>\n",
       "      <th>FTI</th>\n",
       "      <th>Outcome</th>\n",
       "    </tr>\n",
       "  </thead>\n",
       "  <tbody>\n",
       "    <tr>\n",
       "      <th>0</th>\n",
       "      <td>41</td>\n",
       "      <td>F</td>\n",
       "      <td>f</td>\n",
       "      <td>f</td>\n",
       "      <td>f</td>\n",
       "      <td>f</td>\n",
       "      <td>f</td>\n",
       "      <td>f</td>\n",
       "      <td>f</td>\n",
       "      <td>1.3</td>\n",
       "      <td>2.5</td>\n",
       "      <td>125</td>\n",
       "      <td>1.14</td>\n",
       "      <td>109</td>\n",
       "      <td>P</td>\n",
       "    </tr>\n",
       "    <tr>\n",
       "      <th>1</th>\n",
       "      <td>23</td>\n",
       "      <td>F</td>\n",
       "      <td>f</td>\n",
       "      <td>f</td>\n",
       "      <td>f</td>\n",
       "      <td>f</td>\n",
       "      <td>f</td>\n",
       "      <td>f</td>\n",
       "      <td>f</td>\n",
       "      <td>4.1</td>\n",
       "      <td>2</td>\n",
       "      <td>102</td>\n",
       "      <td>?</td>\n",
       "      <td>?</td>\n",
       "      <td>P</td>\n",
       "    </tr>\n",
       "    <tr>\n",
       "      <th>2</th>\n",
       "      <td>46</td>\n",
       "      <td>M</td>\n",
       "      <td>f</td>\n",
       "      <td>f</td>\n",
       "      <td>f</td>\n",
       "      <td>f</td>\n",
       "      <td>f</td>\n",
       "      <td>f</td>\n",
       "      <td>f</td>\n",
       "      <td>0.98</td>\n",
       "      <td>?</td>\n",
       "      <td>109</td>\n",
       "      <td>0.91</td>\n",
       "      <td>120</td>\n",
       "      <td>P</td>\n",
       "    </tr>\n",
       "    <tr>\n",
       "      <th>3</th>\n",
       "      <td>70</td>\n",
       "      <td>F</td>\n",
       "      <td>f</td>\n",
       "      <td>f</td>\n",
       "      <td>f</td>\n",
       "      <td>f</td>\n",
       "      <td>f</td>\n",
       "      <td>f</td>\n",
       "      <td>f</td>\n",
       "      <td>0.16</td>\n",
       "      <td>1.9</td>\n",
       "      <td>175</td>\n",
       "      <td>?</td>\n",
       "      <td>?</td>\n",
       "      <td>P</td>\n",
       "    </tr>\n",
       "    <tr>\n",
       "      <th>4</th>\n",
       "      <td>70</td>\n",
       "      <td>F</td>\n",
       "      <td>f</td>\n",
       "      <td>f</td>\n",
       "      <td>f</td>\n",
       "      <td>f</td>\n",
       "      <td>f</td>\n",
       "      <td>f</td>\n",
       "      <td>f</td>\n",
       "      <td>0.72</td>\n",
       "      <td>1.2</td>\n",
       "      <td>61</td>\n",
       "      <td>0.87</td>\n",
       "      <td>70</td>\n",
       "      <td>P</td>\n",
       "    </tr>\n",
       "    <tr>\n",
       "      <th>...</th>\n",
       "      <td>...</td>\n",
       "      <td>...</td>\n",
       "      <td>...</td>\n",
       "      <td>...</td>\n",
       "      <td>...</td>\n",
       "      <td>...</td>\n",
       "      <td>...</td>\n",
       "      <td>...</td>\n",
       "      <td>...</td>\n",
       "      <td>...</td>\n",
       "      <td>...</td>\n",
       "      <td>...</td>\n",
       "      <td>...</td>\n",
       "      <td>...</td>\n",
       "      <td>...</td>\n",
       "    </tr>\n",
       "    <tr>\n",
       "      <th>3767</th>\n",
       "      <td>30</td>\n",
       "      <td>F</td>\n",
       "      <td>f</td>\n",
       "      <td>f</td>\n",
       "      <td>f</td>\n",
       "      <td>f</td>\n",
       "      <td>f</td>\n",
       "      <td>f</td>\n",
       "      <td>t</td>\n",
       "      <td>?</td>\n",
       "      <td>?</td>\n",
       "      <td>?</td>\n",
       "      <td>?</td>\n",
       "      <td>?</td>\n",
       "      <td>P</td>\n",
       "    </tr>\n",
       "    <tr>\n",
       "      <th>3768</th>\n",
       "      <td>68</td>\n",
       "      <td>F</td>\n",
       "      <td>f</td>\n",
       "      <td>f</td>\n",
       "      <td>f</td>\n",
       "      <td>f</td>\n",
       "      <td>f</td>\n",
       "      <td>f</td>\n",
       "      <td>f</td>\n",
       "      <td>1</td>\n",
       "      <td>2.1</td>\n",
       "      <td>124</td>\n",
       "      <td>1.08</td>\n",
       "      <td>114</td>\n",
       "      <td>P</td>\n",
       "    </tr>\n",
       "    <tr>\n",
       "      <th>3769</th>\n",
       "      <td>74</td>\n",
       "      <td>F</td>\n",
       "      <td>f</td>\n",
       "      <td>f</td>\n",
       "      <td>f</td>\n",
       "      <td>f</td>\n",
       "      <td>f</td>\n",
       "      <td>f</td>\n",
       "      <td>f</td>\n",
       "      <td>5.1</td>\n",
       "      <td>1.8</td>\n",
       "      <td>112</td>\n",
       "      <td>1.07</td>\n",
       "      <td>105</td>\n",
       "      <td>P</td>\n",
       "    </tr>\n",
       "    <tr>\n",
       "      <th>3770</th>\n",
       "      <td>72</td>\n",
       "      <td>M</td>\n",
       "      <td>f</td>\n",
       "      <td>f</td>\n",
       "      <td>f</td>\n",
       "      <td>f</td>\n",
       "      <td>f</td>\n",
       "      <td>f</td>\n",
       "      <td>f</td>\n",
       "      <td>0.7</td>\n",
       "      <td>2</td>\n",
       "      <td>82</td>\n",
       "      <td>0.94</td>\n",
       "      <td>87</td>\n",
       "      <td>P</td>\n",
       "    </tr>\n",
       "    <tr>\n",
       "      <th>3771</th>\n",
       "      <td>64</td>\n",
       "      <td>F</td>\n",
       "      <td>f</td>\n",
       "      <td>f</td>\n",
       "      <td>f</td>\n",
       "      <td>f</td>\n",
       "      <td>f</td>\n",
       "      <td>f</td>\n",
       "      <td>f</td>\n",
       "      <td>1</td>\n",
       "      <td>2.2</td>\n",
       "      <td>99</td>\n",
       "      <td>1.07</td>\n",
       "      <td>92</td>\n",
       "      <td>P</td>\n",
       "    </tr>\n",
       "  </tbody>\n",
       "</table>\n",
       "<p>3711 rows × 15 columns</p>\n",
       "</div>"
      ],
      "text/plain": [
       "     age sex sick pregnant thyroid surgery I131 treatment lithium goitre  \\\n",
       "0     41   F    f        f               f              f       f      f   \n",
       "1     23   F    f        f               f              f       f      f   \n",
       "2     46   M    f        f               f              f       f      f   \n",
       "3     70   F    f        f               f              f       f      f   \n",
       "4     70   F    f        f               f              f       f      f   \n",
       "...   ..  ..  ...      ...             ...            ...     ...    ...   \n",
       "3767  30   F    f        f               f              f       f      f   \n",
       "3768  68   F    f        f               f              f       f      f   \n",
       "3769  74   F    f        f               f              f       f      f   \n",
       "3770  72   M    f        f               f              f       f      f   \n",
       "3771  64   F    f        f               f              f       f      f   \n",
       "\n",
       "     tumor   TSH   T3  TT4   T4U  FTI Outcome  \n",
       "0        f   1.3  2.5  125  1.14  109       P  \n",
       "1        f   4.1    2  102     ?    ?       P  \n",
       "2        f  0.98    ?  109  0.91  120       P  \n",
       "3        f  0.16  1.9  175     ?    ?       P  \n",
       "4        f  0.72  1.2   61  0.87   70       P  \n",
       "...    ...   ...  ...  ...   ...  ...     ...  \n",
       "3767     t     ?    ?    ?     ?    ?       P  \n",
       "3768     f     1  2.1  124  1.08  114       P  \n",
       "3769     f   5.1  1.8  112  1.07  105       P  \n",
       "3770     f   0.7    2   82  0.94   87       P  \n",
       "3771     f     1  2.2   99  1.07   92       P  \n",
       "\n",
       "[3711 rows x 15 columns]"
      ]
     },
     "execution_count": 749,
     "metadata": {},
     "output_type": "execute_result"
    }
   ],
   "source": [
    "data"
   ]
  },
  {
   "cell_type": "code",
   "execution_count": 750,
   "id": "5ccd859f-e800-44de-a377-d9619171c071",
   "metadata": {},
   "outputs": [],
   "source": [
    "data.replace('?',np.nan,inplace=True)"
   ]
  },
  {
   "cell_type": "code",
   "execution_count": 751,
   "id": "479d4fdf-20c4-40cc-9b5d-81f3be020a67",
   "metadata": {},
   "outputs": [
    {
     "name": "stdout",
     "output_type": "stream",
     "text": [
      "<class 'pandas.core.frame.DataFrame'>\n",
      "Index: 3711 entries, 0 to 3771\n",
      "Data columns (total 15 columns):\n",
      " #   Column           Non-Null Count  Dtype \n",
      "---  ------           --------------  ----- \n",
      " 0   age              3710 non-null   object\n",
      " 1   sex              3562 non-null   object\n",
      " 2   sick             3711 non-null   object\n",
      " 3   pregnant         3711 non-null   object\n",
      " 4   thyroid surgery  3711 non-null   object\n",
      " 5   I131 treatment   3711 non-null   object\n",
      " 6   lithium          3711 non-null   object\n",
      " 7   goitre           3711 non-null   object\n",
      " 8   tumor            3711 non-null   object\n",
      " 9   TSH              3402 non-null   object\n",
      " 10  T3               3002 non-null   object\n",
      " 11  TT4              3540 non-null   object\n",
      " 12  T4U              3384 non-null   object\n",
      " 13  FTI              3386 non-null   object\n",
      " 14  Outcome          3711 non-null   object\n",
      "dtypes: object(15)\n",
      "memory usage: 463.9+ KB\n"
     ]
    }
   ],
   "source": [
    "data.info()"
   ]
  },
  {
   "cell_type": "code",
   "execution_count": 752,
   "id": "bf5761a6-29be-41b3-a1a8-247954e45149",
   "metadata": {},
   "outputs": [
    {
     "data": {
      "text/plain": [
       "age                  1\n",
       "sex                149\n",
       "sick                 0\n",
       "pregnant             0\n",
       "thyroid surgery      0\n",
       "I131 treatment       0\n",
       "lithium              0\n",
       "goitre               0\n",
       "tumor                0\n",
       "TSH                309\n",
       "T3                 709\n",
       "TT4                171\n",
       "T4U                327\n",
       "FTI                325\n",
       "Outcome              0\n",
       "dtype: int64"
      ]
     },
     "execution_count": 752,
     "metadata": {},
     "output_type": "execute_result"
    }
   ],
   "source": [
    "data.isnull().sum()"
   ]
  },
  {
   "cell_type": "code",
   "execution_count": 753,
   "id": "3361a250-2192-4c65-8f31-ad918d7cdf9a",
   "metadata": {},
   "outputs": [],
   "source": [
    "imputer=SimpleImputer(strategy='most_frequent')\n",
    "data['age']=imputer.fit_transform(data[['age']]).ravel()\n",
    "data['sex']=imputer.fit_transform(data[['sex']]).ravel()\n",
    "                                  "
   ]
  },
  {
   "cell_type": "code",
   "execution_count": 754,
   "id": "17e69a8c-a265-4ada-8f4f-93d00d1e6b2d",
   "metadata": {},
   "outputs": [],
   "source": [
    "impute=SimpleImputer(strategy='mean')\n",
    "data['TSH']=impute.fit_transform(data[['TSH']]).ravel()\n",
    "data['T3']=impute.fit_transform(data[['T3']]).ravel()\n",
    "data['TT4']=impute.fit_transform(data[['TT4']]).ravel()\n",
    "data['T4U']=impute.fit_transform(data[['T4U']]).ravel()\n",
    "data['FTI']=impute.fit_transform(data[['FTI']]).ravel()\n",
    "\n"
   ]
  },
  {
   "cell_type": "code",
   "execution_count": 755,
   "id": "930e222f-ceec-44ea-b034-2c16bd80a496",
   "metadata": {},
   "outputs": [
    {
     "data": {
      "text/plain": [
       "age                0\n",
       "sex                0\n",
       "sick               0\n",
       "pregnant           0\n",
       "thyroid surgery    0\n",
       "I131 treatment     0\n",
       "lithium            0\n",
       "goitre             0\n",
       "tumor              0\n",
       "TSH                0\n",
       "T3                 0\n",
       "TT4                0\n",
       "T4U                0\n",
       "FTI                0\n",
       "Outcome            0\n",
       "dtype: int64"
      ]
     },
     "execution_count": 755,
     "metadata": {},
     "output_type": "execute_result"
    }
   ],
   "source": [
    "data.isnull().sum()"
   ]
  },
  {
   "cell_type": "code",
   "execution_count": 756,
   "id": "0bdbded4-87a7-4232-95e9-8b8b1030bf50",
   "metadata": {},
   "outputs": [
    {
     "name": "stdout",
     "output_type": "stream",
     "text": [
      "<class 'pandas.core.frame.DataFrame'>\n",
      "Index: 3711 entries, 0 to 3771\n",
      "Data columns (total 15 columns):\n",
      " #   Column           Non-Null Count  Dtype  \n",
      "---  ------           --------------  -----  \n",
      " 0   age              3711 non-null   object \n",
      " 1   sex              3711 non-null   object \n",
      " 2   sick             3711 non-null   object \n",
      " 3   pregnant         3711 non-null   object \n",
      " 4   thyroid surgery  3711 non-null   object \n",
      " 5   I131 treatment   3711 non-null   object \n",
      " 6   lithium          3711 non-null   object \n",
      " 7   goitre           3711 non-null   object \n",
      " 8   tumor            3711 non-null   object \n",
      " 9   TSH              3711 non-null   float64\n",
      " 10  T3               3711 non-null   float64\n",
      " 11  TT4              3711 non-null   float64\n",
      " 12  T4U              3711 non-null   float64\n",
      " 13  FTI              3711 non-null   float64\n",
      " 14  Outcome          3711 non-null   object \n",
      "dtypes: float64(5), object(10)\n",
      "memory usage: 463.9+ KB\n"
     ]
    }
   ],
   "source": [
    "data.info()"
   ]
  },
  {
   "cell_type": "code",
   "execution_count": 757,
   "id": "5fcc15db-7ddf-4202-bd1b-0fb8e78d3a08",
   "metadata": {},
   "outputs": [],
   "source": [
    "data['age']=data['age'].astype(int)\n",
    "data['TSH']=data['TSH'].astype(int)\n",
    "data['T3']=data['T3'].astype(int)\n",
    "data['TT4']=data['TT4'].astype(int)\n",
    "data['T4U']=data['T4U'].astype(int)\n",
    "data['FTI']=data['FTI'].astype(int)"
   ]
  },
  {
   "cell_type": "code",
   "execution_count": 758,
   "id": "f1526fde-b9cf-462e-861e-5aa3bdd66d1b",
   "metadata": {},
   "outputs": [
    {
     "name": "stdout",
     "output_type": "stream",
     "text": [
      "<class 'pandas.core.frame.DataFrame'>\n",
      "Index: 3711 entries, 0 to 3771\n",
      "Data columns (total 15 columns):\n",
      " #   Column           Non-Null Count  Dtype \n",
      "---  ------           --------------  ----- \n",
      " 0   age              3711 non-null   int32 \n",
      " 1   sex              3711 non-null   object\n",
      " 2   sick             3711 non-null   object\n",
      " 3   pregnant         3711 non-null   object\n",
      " 4   thyroid surgery  3711 non-null   object\n",
      " 5   I131 treatment   3711 non-null   object\n",
      " 6   lithium          3711 non-null   object\n",
      " 7   goitre           3711 non-null   object\n",
      " 8   tumor            3711 non-null   object\n",
      " 9   TSH              3711 non-null   int32 \n",
      " 10  T3               3711 non-null   int32 \n",
      " 11  TT4              3711 non-null   int32 \n",
      " 12  T4U              3711 non-null   int32 \n",
      " 13  FTI              3711 non-null   int32 \n",
      " 14  Outcome          3711 non-null   object\n",
      "dtypes: int32(6), object(9)\n",
      "memory usage: 376.9+ KB\n"
     ]
    }
   ],
   "source": [
    "data.info()"
   ]
  },
  {
   "cell_type": "code",
   "execution_count": 759,
   "id": "87aee5e1-ea58-4b2a-88fc-0b562d715af6",
   "metadata": {},
   "outputs": [
    {
     "data": {
      "text/html": [
       "<div>\n",
       "<style scoped>\n",
       "    .dataframe tbody tr th:only-of-type {\n",
       "        vertical-align: middle;\n",
       "    }\n",
       "\n",
       "    .dataframe tbody tr th {\n",
       "        vertical-align: top;\n",
       "    }\n",
       "\n",
       "    .dataframe thead th {\n",
       "        text-align: right;\n",
       "    }\n",
       "</style>\n",
       "<table border=\"1\" class=\"dataframe\">\n",
       "  <thead>\n",
       "    <tr style=\"text-align: right;\">\n",
       "      <th></th>\n",
       "      <th>age</th>\n",
       "      <th>sex</th>\n",
       "      <th>sick</th>\n",
       "      <th>pregnant</th>\n",
       "      <th>thyroid surgery</th>\n",
       "      <th>I131 treatment</th>\n",
       "      <th>lithium</th>\n",
       "      <th>goitre</th>\n",
       "      <th>tumor</th>\n",
       "      <th>TSH</th>\n",
       "      <th>T3</th>\n",
       "      <th>TT4</th>\n",
       "      <th>T4U</th>\n",
       "      <th>FTI</th>\n",
       "      <th>Outcome</th>\n",
       "    </tr>\n",
       "  </thead>\n",
       "  <tbody>\n",
       "    <tr>\n",
       "      <th>0</th>\n",
       "      <td>41</td>\n",
       "      <td>F</td>\n",
       "      <td>f</td>\n",
       "      <td>f</td>\n",
       "      <td>f</td>\n",
       "      <td>f</td>\n",
       "      <td>f</td>\n",
       "      <td>f</td>\n",
       "      <td>f</td>\n",
       "      <td>1</td>\n",
       "      <td>2</td>\n",
       "      <td>125</td>\n",
       "      <td>1</td>\n",
       "      <td>109</td>\n",
       "      <td>P</td>\n",
       "    </tr>\n",
       "    <tr>\n",
       "      <th>1</th>\n",
       "      <td>23</td>\n",
       "      <td>F</td>\n",
       "      <td>f</td>\n",
       "      <td>f</td>\n",
       "      <td>f</td>\n",
       "      <td>f</td>\n",
       "      <td>f</td>\n",
       "      <td>f</td>\n",
       "      <td>f</td>\n",
       "      <td>4</td>\n",
       "      <td>2</td>\n",
       "      <td>102</td>\n",
       "      <td>0</td>\n",
       "      <td>110</td>\n",
       "      <td>P</td>\n",
       "    </tr>\n",
       "    <tr>\n",
       "      <th>2</th>\n",
       "      <td>46</td>\n",
       "      <td>M</td>\n",
       "      <td>f</td>\n",
       "      <td>f</td>\n",
       "      <td>f</td>\n",
       "      <td>f</td>\n",
       "      <td>f</td>\n",
       "      <td>f</td>\n",
       "      <td>f</td>\n",
       "      <td>0</td>\n",
       "      <td>2</td>\n",
       "      <td>109</td>\n",
       "      <td>0</td>\n",
       "      <td>120</td>\n",
       "      <td>P</td>\n",
       "    </tr>\n",
       "    <tr>\n",
       "      <th>3</th>\n",
       "      <td>70</td>\n",
       "      <td>F</td>\n",
       "      <td>f</td>\n",
       "      <td>f</td>\n",
       "      <td>f</td>\n",
       "      <td>f</td>\n",
       "      <td>f</td>\n",
       "      <td>f</td>\n",
       "      <td>f</td>\n",
       "      <td>0</td>\n",
       "      <td>1</td>\n",
       "      <td>175</td>\n",
       "      <td>0</td>\n",
       "      <td>110</td>\n",
       "      <td>P</td>\n",
       "    </tr>\n",
       "    <tr>\n",
       "      <th>4</th>\n",
       "      <td>70</td>\n",
       "      <td>F</td>\n",
       "      <td>f</td>\n",
       "      <td>f</td>\n",
       "      <td>f</td>\n",
       "      <td>f</td>\n",
       "      <td>f</td>\n",
       "      <td>f</td>\n",
       "      <td>f</td>\n",
       "      <td>0</td>\n",
       "      <td>1</td>\n",
       "      <td>61</td>\n",
       "      <td>0</td>\n",
       "      <td>70</td>\n",
       "      <td>P</td>\n",
       "    </tr>\n",
       "  </tbody>\n",
       "</table>\n",
       "</div>"
      ],
      "text/plain": [
       "   age sex sick pregnant thyroid surgery I131 treatment lithium goitre tumor  \\\n",
       "0   41   F    f        f               f              f       f      f     f   \n",
       "1   23   F    f        f               f              f       f      f     f   \n",
       "2   46   M    f        f               f              f       f      f     f   \n",
       "3   70   F    f        f               f              f       f      f     f   \n",
       "4   70   F    f        f               f              f       f      f     f   \n",
       "\n",
       "   TSH  T3  TT4  T4U  FTI Outcome  \n",
       "0    1   2  125    1  109       P  \n",
       "1    4   2  102    0  110       P  \n",
       "2    0   2  109    0  120       P  \n",
       "3    0   1  175    0  110       P  \n",
       "4    0   1   61    0   70       P  "
      ]
     },
     "execution_count": 759,
     "metadata": {},
     "output_type": "execute_result"
    }
   ],
   "source": [
    "data.head()"
   ]
  },
  {
   "cell_type": "code",
   "execution_count": 760,
   "id": "ecd49e10-a4db-4b64-9ced-d259201b17cc",
   "metadata": {},
   "outputs": [
    {
     "data": {
      "text/plain": [
       "Text(0.5, 1.0, 'Age Distribution')"
      ]
     },
     "execution_count": 760,
     "metadata": {},
     "output_type": "execute_result"
    },
    {
     "data": {
      "image/png": "[encoded data removed]",
      "text/plain": [
       "<Figure size 640x480 with 1 Axes>"
      ]
     },
     "metadata": {},
     "output_type": "display_data"
    }
   ],
   "source": [
    "#analysis\n",
    "plt.hist(data[\"age\"])\n",
    "plt.title(\"Age Distribution\")"
   ]
  },
  {
   "cell_type": "code",
   "execution_count": 761,
   "id": "b0d49f1e-8e5e-41f5-b53d-0c55edc24951",
   "metadata": {},
   "outputs": [
    {
     "data": {
      "text/plain": [
       "<Axes: xlabel='Outcome', ylabel='Count'>"
      ]
     },
     "execution_count": 761,
     "metadata": {},
     "output_type": "execute_result"
    },
    {
     "data": {
      "image/png": "[encoded data removed]",
      "text/plain": [
       "<Figure size 640x480 with 1 Axes>"
      ]
     },
     "metadata": {},
     "output_type": "display_data"
    }
   ],
   "source": [
    "sns.histplot(data,x='Outcome')"
   ]
  },
  {
   "cell_type": "code",
   "execution_count": 762,
   "id": "0a876fd8-047f-4003-89e5-7328343df845",
   "metadata": {},
   "outputs": [
    {
     "data": {
      "text/plain": [
       "<Axes: xlabel='age'>"
      ]
     },
     "execution_count": 762,
     "metadata": {},
     "output_type": "execute_result"
    },
    {
     "data": {
      "image/png": "[encoded data removed]",
      "text/plain": [
       "<Figure size 640x480 with 1 Axes>"
      ]
     },
     "metadata": {},
     "output_type": "display_data"
    }
   ],
   "source": [
    "sns.boxplot(data,x='age')"
   ]
  },
  {
   "cell_type": "code",
   "execution_count": 763,
   "id": "533693a7-f493-4fb6-805a-fa0885efa3a3",
   "metadata": {},
   "outputs": [
    {
     "data": {
      "text/plain": [
       "<Axes: xlabel='TSH'>"
      ]
     },
     "execution_count": 763,
     "metadata": {},
     "output_type": "execute_result"
    },
    {
     "data": {
      "image/png": "[encoded data removed]",
      "text/plain": [
       "<Figure size 640x480 with 1 Axes>"
      ]
     },
     "metadata": {},
     "output_type": "display_data"
    }
   ],
   "source": [
    "\n",
    "sns.boxplot(data,x='TSH')\n"
   ]
  },
  {
   "cell_type": "code",
   "execution_count": 764,
   "id": "fbac370b-e526-4388-813a-b138ce11268d",
   "metadata": {},
   "outputs": [
    {
     "data": {
      "text/plain": [
       "<Axes: xlabel='TT4'>"
      ]
     },
     "execution_count": 764,
     "metadata": {},
     "output_type": "execute_result"
    },
    {
     "data": {
      "image/png": "[encoded data removed]",
      "text/plain": [
       "<Figure size 640x480 with 1 Axes>"
      ]
     },
     "metadata": {},
     "output_type": "display_data"
    }
   ],
   "source": [
    "sns.boxplot(data,x='TT4')"
   ]
  },
  {
   "cell_type": "code",
   "execution_count": 765,
   "id": "a9205e21-52c2-401a-9b58-4fda391763ac",
   "metadata": {},
   "outputs": [
    {
     "data": {
      "text/plain": [
       "<Axes: xlabel='T3'>"
      ]
     },
     "execution_count": 765,
     "metadata": {},
     "output_type": "execute_result"
    },
    {
     "data": {
      "image/png": "[encoded data removed]",
      "text/plain": [
       "<Figure size 640x480 with 1 Axes>"
      ]
     },
     "metadata": {},
     "output_type": "display_data"
    }
   ],
   "source": [
    "sns.boxplot(data,x='T3')"
   ]
  },
  {
   "cell_type": "code",
   "execution_count": 766,
   "id": "6c0fbc88-5896-4768-92ea-3610cfcdd251",
   "metadata": {},
   "outputs": [
    {
     "data": {
      "text/plain": [
       "<Axes: xlabel='FTI'>"
      ]
     },
     "execution_count": 766,
     "metadata": {},
     "output_type": "execute_result"
    },
    {
     "data": {
      "image/png": "[encoded data removed]",
      "text/plain": [
       "<Figure size 640x480 with 1 Axes>"
      ]
     },
     "metadata": {},
     "output_type": "display_data"
    }
   ],
   "source": [
    "sns.boxplot(data,x='FTI')"
   ]
  },
  {
   "cell_type": "code",
   "execution_count": 767,
   "id": "5aef2035-1b52-45d0-b1ea-69acc1aacf6c",
   "metadata": {},
   "outputs": [
    {
     "data": {
      "text/plain": [
       "<Axes: xlabel='T4U'>"
      ]
     },
     "execution_count": 767,
     "metadata": {},
     "output_type": "execute_result"
    },
    {
     "data": {
      "image/png": "[encoded data removed]",
      "text/plain": [
       "<Figure size 640x480 with 1 Axes>"
      ]
     },
     "metadata": {},
     "output_type": "display_data"
    }
   ],
   "source": [
    "sns.boxplot(data,x='T4U')"
   ]
  },
  {
   "cell_type": "code",
   "execution_count": 768,
   "id": "15a85a8a-f577-4510-a663-7887751a83b5",
   "metadata": {},
   "outputs": [
    {
     "name": "stdout",
     "output_type": "stream",
     "text": [
      "4.5\n",
      "7.5\n"
     ]
    }
   ],
   "source": [
    "q1=data['TSH'].quantile(.25)\n",
    "q3=data['TSH'].quantile(.75)\n",
    "iqr=q3-q1\n",
    "\n",
    "lowerbound=q1+1.5*iqr\n",
    "upperbound=q3+1.5*iqr\n",
    "print(lowerbound)\n",
    "print(upperbound)\n",
    "data['TSH']=data['TSH'].apply(lambda x:lowerbound if x<lowerbound else upperbound if x>upperbound else x)"
   ]
  },
  {
   "cell_type": "code",
   "execution_count": 769,
   "id": "0fc2684b-ebf2-4e22-8fd0-5b4a8b00c4ac",
   "metadata": {},
   "outputs": [
    {
     "name": "stdout",
     "output_type": "stream",
     "text": [
      "140.0\n",
      "174.0\n",
      "2.5\n",
      "3.5\n",
      "1.5\n",
      "2.5\n"
     ]
    }
   ],
   "source": [
    "q1=data['TT4'].quantile(.25)\n",
    "q3=data['TT4'].quantile(.75)\n",
    "iqr=q3-q1\n",
    "\n",
    "lowerbound=q1+1.5*iqr\n",
    "upperbound=q3+1.5*iqr\n",
    "print(lowerbound)\n",
    "print(upperbound)\n",
    "data['TT4']=data['TT4'].apply(lambda x:lowerbound if x<lowerbound else upperbound if x>upperbound else x)\n",
    "\n",
    "q1=data['T3'].quantile(.25)\n",
    "q3=data['T3'].quantile(.75)\n",
    "iqr=q3-q1\n",
    "\n",
    "lowerbound=q1+1.5*iqr\n",
    "upperbound=q3+1.5*iqr\n",
    "print(lowerbound)\n",
    "print(upperbound)\n",
    "data['T3']=data['T3'].apply(lambda x:lowerbound if x<lowerbound else upperbound if x>upperbound else x)\n",
    "\n",
    "q1=data['T4U'].quantile(.25)\n",
    "q3=data['T4U'].quantile(.75)\n",
    "iqr=q3-q1\n",
    "\n",
    "lowerbound=q1+1.5*iqr\n",
    "upperbound=q3+1.5*iqr\n",
    "print(lowerbound)\n",
    "print(upperbound)\n",
    "data['T4U']=data['T4U'].apply(lambda x:lowerbound if x<lowerbound else upperbound if x>upperbound else x)"
   ]
  },
  {
   "cell_type": "code",
   "execution_count": 770,
   "id": "7d1e04f0-e067-4d4d-8409-c507755d1473",
   "metadata": {
    "scrolled": true
   },
   "outputs": [
    {
     "data": {
      "text/plain": [
       "<Axes: xlabel='Outcome', ylabel='age'>"
      ]
     },
     "execution_count": 770,
     "metadata": {},
     "output_type": "execute_result"
    },
    {
     "data": {
      "image/png": "[encoded data removed]",
      "text/plain": [
       "<Figure size 640x480 with 1 Axes>"
      ]
     },
     "metadata": {},
     "output_type": "display_data"
    }
   ],
   "source": [
    "#bivariate analysis\n",
    "sns.boxplot(data,x='Outcome',y='age')\n",
    "\n"
   ]
  },
  {
   "cell_type": "markdown",
   "id": "13f482a6-c41c-4d50-ae1c-f44ba04d7571",
   "metadata": {},
   "source": [
    "q1=data['age'].quantile(.25)\n",
    "q3=data['age'].quantile(.75)\n",
    "iqr=q3-q1\n",
    "\n",
    "lowerbound=q1+1.5*iqr\n",
    "upperbound=q3+1.5*iqr\n",
    "print(lowerbound)\n",
    "print(upperbound)\n",
    "data = data[(data['age'] >= lowerbound) & (data['age'] <= upperbound)]"
   ]
  },
  {
   "cell_type": "code",
   "execution_count": 771,
   "id": "2b8822be-43b5-4494-9a30-69f3ee800532",
   "metadata": {},
   "outputs": [],
   "source": [
    "##sns.boxplot(data,x='age')"
   ]
  },
  {
   "cell_type": "code",
   "execution_count": 772,
   "id": "c0457235-39d5-4408-bee3-a80ec4b63ef9",
   "metadata": {},
   "outputs": [
    {
     "data": {
      "text/plain": [
       "<Axes: xlabel='sex', ylabel='age'>"
      ]
     },
     "execution_count": 772,
     "metadata": {},
     "output_type": "execute_result"
    },
    {
     "data": {
      "image/png": "[encoded data removed]",
      "text/plain": [
       "<Figure size 640x480 with 1 Axes>"
      ]
     },
     "metadata": {},
     "output_type": "display_data"
    }
   ],
   "source": [
    "sns.barplot(data,x='sex',y='age',hue='Outcome')"
   ]
  },
  {
   "cell_type": "code",
   "execution_count": 773,
   "id": "cc5879aa-830d-48bb-842f-d88a512ac1eb",
   "metadata": {},
   "outputs": [
    {
     "data": {
      "text/plain": [
       "<Axes: >"
      ]
     },
     "execution_count": 773,
     "metadata": {},
     "output_type": "execute_result"
    },
    {
     "data": {
      "image/png": "[encoded data removed]",
      "text/plain": [
       "<Figure size 640x480 with 2 Axes>"
      ]
     },
     "metadata": {},
     "output_type": "display_data"
    }
   ],
   "source": [
    "numeric_data=data.select_dtypes(include=\"number\")\n",
    "sns.heatmap(numeric_data.corr(),annot=True)"
   ]
  },
  {
   "cell_type": "code",
   "execution_count": 774,
   "id": "3662ea0d-d411-4348-8196-674155e7c23c",
   "metadata": {
    "scrolled": true
   },
   "outputs": [
    {
     "data": {
      "text/html": [
       "<div>\n",
       "<style scoped>\n",
       "    .dataframe tbody tr th:only-of-type {\n",
       "        vertical-align: middle;\n",
       "    }\n",
       "\n",
       "    .dataframe tbody tr th {\n",
       "        vertical-align: top;\n",
       "    }\n",
       "\n",
       "    .dataframe thead th {\n",
       "        text-align: right;\n",
       "    }\n",
       "</style>\n",
       "<table border=\"1\" class=\"dataframe\">\n",
       "  <thead>\n",
       "    <tr style=\"text-align: right;\">\n",
       "      <th></th>\n",
       "      <th>age</th>\n",
       "      <th>sex</th>\n",
       "      <th>sick</th>\n",
       "      <th>pregnant</th>\n",
       "      <th>thyroid surgery</th>\n",
       "      <th>I131 treatment</th>\n",
       "      <th>lithium</th>\n",
       "      <th>goitre</th>\n",
       "      <th>tumor</th>\n",
       "      <th>TSH</th>\n",
       "      <th>T3</th>\n",
       "      <th>TT4</th>\n",
       "      <th>T4U</th>\n",
       "      <th>FTI</th>\n",
       "      <th>Outcome</th>\n",
       "    </tr>\n",
       "  </thead>\n",
       "  <tbody>\n",
       "    <tr>\n",
       "      <th>0</th>\n",
       "      <td>41</td>\n",
       "      <td>F</td>\n",
       "      <td>f</td>\n",
       "      <td>f</td>\n",
       "      <td>f</td>\n",
       "      <td>f</td>\n",
       "      <td>f</td>\n",
       "      <td>f</td>\n",
       "      <td>f</td>\n",
       "      <td>4.5</td>\n",
       "      <td>2.5</td>\n",
       "      <td>140.0</td>\n",
       "      <td>1.5</td>\n",
       "      <td>109</td>\n",
       "      <td>P</td>\n",
       "    </tr>\n",
       "    <tr>\n",
       "      <th>1</th>\n",
       "      <td>23</td>\n",
       "      <td>F</td>\n",
       "      <td>f</td>\n",
       "      <td>f</td>\n",
       "      <td>f</td>\n",
       "      <td>f</td>\n",
       "      <td>f</td>\n",
       "      <td>f</td>\n",
       "      <td>f</td>\n",
       "      <td>4.5</td>\n",
       "      <td>2.5</td>\n",
       "      <td>140.0</td>\n",
       "      <td>1.5</td>\n",
       "      <td>110</td>\n",
       "      <td>P</td>\n",
       "    </tr>\n",
       "    <tr>\n",
       "      <th>2</th>\n",
       "      <td>46</td>\n",
       "      <td>M</td>\n",
       "      <td>f</td>\n",
       "      <td>f</td>\n",
       "      <td>f</td>\n",
       "      <td>f</td>\n",
       "      <td>f</td>\n",
       "      <td>f</td>\n",
       "      <td>f</td>\n",
       "      <td>4.5</td>\n",
       "      <td>2.5</td>\n",
       "      <td>140.0</td>\n",
       "      <td>1.5</td>\n",
       "      <td>120</td>\n",
       "      <td>P</td>\n",
       "    </tr>\n",
       "    <tr>\n",
       "      <th>3</th>\n",
       "      <td>70</td>\n",
       "      <td>F</td>\n",
       "      <td>f</td>\n",
       "      <td>f</td>\n",
       "      <td>f</td>\n",
       "      <td>f</td>\n",
       "      <td>f</td>\n",
       "      <td>f</td>\n",
       "      <td>f</td>\n",
       "      <td>4.5</td>\n",
       "      <td>2.5</td>\n",
       "      <td>174.0</td>\n",
       "      <td>1.5</td>\n",
       "      <td>110</td>\n",
       "      <td>P</td>\n",
       "    </tr>\n",
       "    <tr>\n",
       "      <th>4</th>\n",
       "      <td>70</td>\n",
       "      <td>F</td>\n",
       "      <td>f</td>\n",
       "      <td>f</td>\n",
       "      <td>f</td>\n",
       "      <td>f</td>\n",
       "      <td>f</td>\n",
       "      <td>f</td>\n",
       "      <td>f</td>\n",
       "      <td>4.5</td>\n",
       "      <td>2.5</td>\n",
       "      <td>140.0</td>\n",
       "      <td>1.5</td>\n",
       "      <td>70</td>\n",
       "      <td>P</td>\n",
       "    </tr>\n",
       "    <tr>\n",
       "      <th>...</th>\n",
       "      <td>...</td>\n",
       "      <td>...</td>\n",
       "      <td>...</td>\n",
       "      <td>...</td>\n",
       "      <td>...</td>\n",
       "      <td>...</td>\n",
       "      <td>...</td>\n",
       "      <td>...</td>\n",
       "      <td>...</td>\n",
       "      <td>...</td>\n",
       "      <td>...</td>\n",
       "      <td>...</td>\n",
       "      <td>...</td>\n",
       "      <td>...</td>\n",
       "      <td>...</td>\n",
       "    </tr>\n",
       "    <tr>\n",
       "      <th>3767</th>\n",
       "      <td>30</td>\n",
       "      <td>F</td>\n",
       "      <td>f</td>\n",
       "      <td>f</td>\n",
       "      <td>f</td>\n",
       "      <td>f</td>\n",
       "      <td>f</td>\n",
       "      <td>f</td>\n",
       "      <td>t</td>\n",
       "      <td>5.0</td>\n",
       "      <td>2.5</td>\n",
       "      <td>140.0</td>\n",
       "      <td>1.5</td>\n",
       "      <td>110</td>\n",
       "      <td>P</td>\n",
       "    </tr>\n",
       "    <tr>\n",
       "      <th>3768</th>\n",
       "      <td>68</td>\n",
       "      <td>F</td>\n",
       "      <td>f</td>\n",
       "      <td>f</td>\n",
       "      <td>f</td>\n",
       "      <td>f</td>\n",
       "      <td>f</td>\n",
       "      <td>f</td>\n",
       "      <td>f</td>\n",
       "      <td>4.5</td>\n",
       "      <td>2.5</td>\n",
       "      <td>140.0</td>\n",
       "      <td>1.5</td>\n",
       "      <td>114</td>\n",
       "      <td>P</td>\n",
       "    </tr>\n",
       "    <tr>\n",
       "      <th>3769</th>\n",
       "      <td>74</td>\n",
       "      <td>F</td>\n",
       "      <td>f</td>\n",
       "      <td>f</td>\n",
       "      <td>f</td>\n",
       "      <td>f</td>\n",
       "      <td>f</td>\n",
       "      <td>f</td>\n",
       "      <td>f</td>\n",
       "      <td>5.0</td>\n",
       "      <td>2.5</td>\n",
       "      <td>140.0</td>\n",
       "      <td>1.5</td>\n",
       "      <td>105</td>\n",
       "      <td>P</td>\n",
       "    </tr>\n",
       "    <tr>\n",
       "      <th>3770</th>\n",
       "      <td>72</td>\n",
       "      <td>M</td>\n",
       "      <td>f</td>\n",
       "      <td>f</td>\n",
       "      <td>f</td>\n",
       "      <td>f</td>\n",
       "      <td>f</td>\n",
       "      <td>f</td>\n",
       "      <td>f</td>\n",
       "      <td>4.5</td>\n",
       "      <td>2.5</td>\n",
       "      <td>140.0</td>\n",
       "      <td>1.5</td>\n",
       "      <td>87</td>\n",
       "      <td>P</td>\n",
       "    </tr>\n",
       "    <tr>\n",
       "      <th>3771</th>\n",
       "      <td>64</td>\n",
       "      <td>F</td>\n",
       "      <td>f</td>\n",
       "      <td>f</td>\n",
       "      <td>f</td>\n",
       "      <td>f</td>\n",
       "      <td>f</td>\n",
       "      <td>f</td>\n",
       "      <td>f</td>\n",
       "      <td>4.5</td>\n",
       "      <td>2.5</td>\n",
       "      <td>140.0</td>\n",
       "      <td>1.5</td>\n",
       "      <td>92</td>\n",
       "      <td>P</td>\n",
       "    </tr>\n",
       "  </tbody>\n",
       "</table>\n",
       "<p>3711 rows × 15 columns</p>\n",
       "</div>"
      ],
      "text/plain": [
       "      age sex sick pregnant thyroid surgery I131 treatment lithium goitre  \\\n",
       "0      41   F    f        f               f              f       f      f   \n",
       "1      23   F    f        f               f              f       f      f   \n",
       "2      46   M    f        f               f              f       f      f   \n",
       "3      70   F    f        f               f              f       f      f   \n",
       "4      70   F    f        f               f              f       f      f   \n",
       "...   ...  ..  ...      ...             ...            ...     ...    ...   \n",
       "3767   30   F    f        f               f              f       f      f   \n",
       "3768   68   F    f        f               f              f       f      f   \n",
       "3769   74   F    f        f               f              f       f      f   \n",
       "3770   72   M    f        f               f              f       f      f   \n",
       "3771   64   F    f        f               f              f       f      f   \n",
       "\n",
       "     tumor  TSH   T3    TT4  T4U  FTI Outcome  \n",
       "0        f  4.5  2.5  140.0  1.5  109       P  \n",
       "1        f  4.5  2.5  140.0  1.5  110       P  \n",
       "2        f  4.5  2.5  140.0  1.5  120       P  \n",
       "3        f  4.5  2.5  174.0  1.5  110       P  \n",
       "4        f  4.5  2.5  140.0  1.5   70       P  \n",
       "...    ...  ...  ...    ...  ...  ...     ...  \n",
       "3767     t  5.0  2.5  140.0  1.5  110       P  \n",
       "3768     f  4.5  2.5  140.0  1.5  114       P  \n",
       "3769     f  5.0  2.5  140.0  1.5  105       P  \n",
       "3770     f  4.5  2.5  140.0  1.5   87       P  \n",
       "3771     f  4.5  2.5  140.0  1.5   92       P  \n",
       "\n",
       "[3711 rows x 15 columns]"
      ]
     },
     "execution_count": 774,
     "metadata": {},
     "output_type": "execute_result"
    }
   ],
   "source": [
    "data"
   ]
  },
  {
   "cell_type": "code",
   "execution_count": 775,
   "id": "1898ef9d-4367-4f55-bda0-4fe22617657a",
   "metadata": {},
   "outputs": [],
   "source": [
    "#label encoding\n",
    "from sklearn.preprocessing import LabelEncoder,OneHotEncoder\n",
    "labelencoder=LabelEncoder()\n",
    "data['sex']=labelencoder.fit_transform(data['sex'])\n",
    "data['sick']=labelencoder.fit_transform(data['sick'])\n",
    "data['pregnant']=labelencoder.fit_transform(data['pregnant'])\n",
    "data['thyroid surgery']=labelencoder.fit_transform(data['thyroid surgery'])\n",
    "data['I131 treatment']=labelencoder.fit_transform(data['I131 treatment'])\n",
    "data['lithium']=labelencoder.fit_transform(data['lithium'])\n",
    "data['goitre']=labelencoder.fit_transform(data['goitre'])\n",
    "data['tumor']=labelencoder.fit_transform(data['tumor'])\n",
    "data['Outcome']=labelencoder.fit_transform(data['Outcome'])\n"
   ]
  },
  {
   "cell_type": "code",
   "execution_count": 776,
   "id": "0d0f5df4-4dde-4c2c-a1b2-004cf74e1f31",
   "metadata": {
    "scrolled": true
   },
   "outputs": [
    {
     "data": {
      "text/plain": [
       "<Axes: >"
      ]
     },
     "execution_count": 776,
     "metadata": {},
     "output_type": "execute_result"
    },
    {
     "data": {
      "image/png": "[encoded data removed]",
      "text/plain": [
       "<Figure size 640x480 with 2 Axes>"
      ]
     },
     "metadata": {},
     "output_type": "display_data"
    }
   ],
   "source": [
    "cat_features = ['sex', 'sick', 'pregnant', 'thyroid surgery', 'I131 treatment', 'lithium', 'goitre', 'tumor','Outcome']\n",
    "\n",
    "corr_matrix = data[cat_features].corr()\n",
    "\n",
    "sns.heatmap(corr_matrix,annot=True)"
   ]
  },
  {
   "cell_type": "code",
   "execution_count": 777,
   "id": "656dfa64-1127-4bf5-81a2-068c809c1022",
   "metadata": {},
   "outputs": [],
   "source": [
    "##feature removal\n",
    "data=data.drop(columns=['lithium'])"
   ]
  },
  {
   "cell_type": "code",
   "execution_count": 778,
   "id": "930c3938-2112-4de1-9b4f-c79a502e35b4",
   "metadata": {},
   "outputs": [
    {
     "data": {
      "text/html": [
       "<div>\n",
       "<style scoped>\n",
       "    .dataframe tbody tr th:only-of-type {\n",
       "        vertical-align: middle;\n",
       "    }\n",
       "\n",
       "    .dataframe tbody tr th {\n",
       "        vertical-align: top;\n",
       "    }\n",
       "\n",
       "    .dataframe thead th {\n",
       "        text-align: right;\n",
       "    }\n",
       "</style>\n",
       "<table border=\"1\" class=\"dataframe\">\n",
       "  <thead>\n",
       "    <tr style=\"text-align: right;\">\n",
       "      <th></th>\n",
       "      <th>age</th>\n",
       "      <th>sex</th>\n",
       "      <th>sick</th>\n",
       "      <th>pregnant</th>\n",
       "      <th>thyroid surgery</th>\n",
       "      <th>I131 treatment</th>\n",
       "      <th>goitre</th>\n",
       "      <th>tumor</th>\n",
       "      <th>TSH</th>\n",
       "      <th>T3</th>\n",
       "      <th>TT4</th>\n",
       "      <th>T4U</th>\n",
       "      <th>FTI</th>\n",
       "      <th>Outcome</th>\n",
       "    </tr>\n",
       "  </thead>\n",
       "  <tbody>\n",
       "    <tr>\n",
       "      <th>0</th>\n",
       "      <td>41</td>\n",
       "      <td>0</td>\n",
       "      <td>0</td>\n",
       "      <td>0</td>\n",
       "      <td>0</td>\n",
       "      <td>0</td>\n",
       "      <td>0</td>\n",
       "      <td>0</td>\n",
       "      <td>4.5</td>\n",
       "      <td>2.5</td>\n",
       "      <td>140.0</td>\n",
       "      <td>1.5</td>\n",
       "      <td>109</td>\n",
       "      <td>1</td>\n",
       "    </tr>\n",
       "    <tr>\n",
       "      <th>1</th>\n",
       "      <td>23</td>\n",
       "      <td>0</td>\n",
       "      <td>0</td>\n",
       "      <td>0</td>\n",
       "      <td>0</td>\n",
       "      <td>0</td>\n",
       "      <td>0</td>\n",
       "      <td>0</td>\n",
       "      <td>4.5</td>\n",
       "      <td>2.5</td>\n",
       "      <td>140.0</td>\n",
       "      <td>1.5</td>\n",
       "      <td>110</td>\n",
       "      <td>1</td>\n",
       "    </tr>\n",
       "    <tr>\n",
       "      <th>2</th>\n",
       "      <td>46</td>\n",
       "      <td>1</td>\n",
       "      <td>0</td>\n",
       "      <td>0</td>\n",
       "      <td>0</td>\n",
       "      <td>0</td>\n",
       "      <td>0</td>\n",
       "      <td>0</td>\n",
       "      <td>4.5</td>\n",
       "      <td>2.5</td>\n",
       "      <td>140.0</td>\n",
       "      <td>1.5</td>\n",
       "      <td>120</td>\n",
       "      <td>1</td>\n",
       "    </tr>\n",
       "    <tr>\n",
       "      <th>3</th>\n",
       "      <td>70</td>\n",
       "      <td>0</td>\n",
       "      <td>0</td>\n",
       "      <td>0</td>\n",
       "      <td>0</td>\n",
       "      <td>0</td>\n",
       "      <td>0</td>\n",
       "      <td>0</td>\n",
       "      <td>4.5</td>\n",
       "      <td>2.5</td>\n",
       "      <td>174.0</td>\n",
       "      <td>1.5</td>\n",
       "      <td>110</td>\n",
       "      <td>1</td>\n",
       "    </tr>\n",
       "    <tr>\n",
       "      <th>4</th>\n",
       "      <td>70</td>\n",
       "      <td>0</td>\n",
       "      <td>0</td>\n",
       "      <td>0</td>\n",
       "      <td>0</td>\n",
       "      <td>0</td>\n",
       "      <td>0</td>\n",
       "      <td>0</td>\n",
       "      <td>4.5</td>\n",
       "      <td>2.5</td>\n",
       "      <td>140.0</td>\n",
       "      <td>1.5</td>\n",
       "      <td>70</td>\n",
       "      <td>1</td>\n",
       "    </tr>\n",
       "    <tr>\n",
       "      <th>...</th>\n",
       "      <td>...</td>\n",
       "      <td>...</td>\n",
       "      <td>...</td>\n",
       "      <td>...</td>\n",
       "      <td>...</td>\n",
       "      <td>...</td>\n",
       "      <td>...</td>\n",
       "      <td>...</td>\n",
       "      <td>...</td>\n",
       "      <td>...</td>\n",
       "      <td>...</td>\n",
       "      <td>...</td>\n",
       "      <td>...</td>\n",
       "      <td>...</td>\n",
       "    </tr>\n",
       "    <tr>\n",
       "      <th>3767</th>\n",
       "      <td>30</td>\n",
       "      <td>0</td>\n",
       "      <td>0</td>\n",
       "      <td>0</td>\n",
       "      <td>0</td>\n",
       "      <td>0</td>\n",
       "      <td>0</td>\n",
       "      <td>1</td>\n",
       "      <td>5.0</td>\n",
       "      <td>2.5</td>\n",
       "      <td>140.0</td>\n",
       "      <td>1.5</td>\n",
       "      <td>110</td>\n",
       "      <td>1</td>\n",
       "    </tr>\n",
       "    <tr>\n",
       "      <th>3768</th>\n",
       "      <td>68</td>\n",
       "      <td>0</td>\n",
       "      <td>0</td>\n",
       "      <td>0</td>\n",
       "      <td>0</td>\n",
       "      <td>0</td>\n",
       "      <td>0</td>\n",
       "      <td>0</td>\n",
       "      <td>4.5</td>\n",
       "      <td>2.5</td>\n",
       "      <td>140.0</td>\n",
       "      <td>1.5</td>\n",
       "      <td>114</td>\n",
       "      <td>1</td>\n",
       "    </tr>\n",
       "    <tr>\n",
       "      <th>3769</th>\n",
       "      <td>74</td>\n",
       "      <td>0</td>\n",
       "      <td>0</td>\n",
       "      <td>0</td>\n",
       "      <td>0</td>\n",
       "      <td>0</td>\n",
       "      <td>0</td>\n",
       "      <td>0</td>\n",
       "      <td>5.0</td>\n",
       "      <td>2.5</td>\n",
       "      <td>140.0</td>\n",
       "      <td>1.5</td>\n",
       "      <td>105</td>\n",
       "      <td>1</td>\n",
       "    </tr>\n",
       "    <tr>\n",
       "      <th>3770</th>\n",
       "      <td>72</td>\n",
       "      <td>1</td>\n",
       "      <td>0</td>\n",
       "      <td>0</td>\n",
       "      <td>0</td>\n",
       "      <td>0</td>\n",
       "      <td>0</td>\n",
       "      <td>0</td>\n",
       "      <td>4.5</td>\n",
       "      <td>2.5</td>\n",
       "      <td>140.0</td>\n",
       "      <td>1.5</td>\n",
       "      <td>87</td>\n",
       "      <td>1</td>\n",
       "    </tr>\n",
       "    <tr>\n",
       "      <th>3771</th>\n",
       "      <td>64</td>\n",
       "      <td>0</td>\n",
       "      <td>0</td>\n",
       "      <td>0</td>\n",
       "      <td>0</td>\n",
       "      <td>0</td>\n",
       "      <td>0</td>\n",
       "      <td>0</td>\n",
       "      <td>4.5</td>\n",
       "      <td>2.5</td>\n",
       "      <td>140.0</td>\n",
       "      <td>1.5</td>\n",
       "      <td>92</td>\n",
       "      <td>1</td>\n",
       "    </tr>\n",
       "  </tbody>\n",
       "</table>\n",
       "<p>3711 rows × 14 columns</p>\n",
       "</div>"
      ],
      "text/plain": [
       "      age  sex  sick  pregnant  thyroid surgery  I131 treatment  goitre  \\\n",
       "0      41    0     0         0                0               0       0   \n",
       "1      23    0     0         0                0               0       0   \n",
       "2      46    1     0         0                0               0       0   \n",
       "3      70    0     0         0                0               0       0   \n",
       "4      70    0     0         0                0               0       0   \n",
       "...   ...  ...   ...       ...              ...             ...     ...   \n",
       "3767   30    0     0         0                0               0       0   \n",
       "3768   68    0     0         0                0               0       0   \n",
       "3769   74    0     0         0                0               0       0   \n",
       "3770   72    1     0         0                0               0       0   \n",
       "3771   64    0     0         0                0               0       0   \n",
       "\n",
       "      tumor  TSH   T3    TT4  T4U  FTI  Outcome  \n",
       "0         0  4.5  2.5  140.0  1.5  109        1  \n",
       "1         0  4.5  2.5  140.0  1.5  110        1  \n",
       "2         0  4.5  2.5  140.0  1.5  120        1  \n",
       "3         0  4.5  2.5  174.0  1.5  110        1  \n",
       "4         0  4.5  2.5  140.0  1.5   70        1  \n",
       "...     ...  ...  ...    ...  ...  ...      ...  \n",
       "3767      1  5.0  2.5  140.0  1.5  110        1  \n",
       "3768      0  4.5  2.5  140.0  1.5  114        1  \n",
       "3769      0  5.0  2.5  140.0  1.5  105        1  \n",
       "3770      0  4.5  2.5  140.0  1.5   87        1  \n",
       "3771      0  4.5  2.5  140.0  1.5   92        1  \n",
       "\n",
       "[3711 rows x 14 columns]"
      ]
     },
     "execution_count": 778,
     "metadata": {},
     "output_type": "execute_result"
    }
   ],
   "source": [
    "data"
   ]
  },
  {
   "cell_type": "code",
   "execution_count": 779,
   "id": "ed444d42-a4e9-4c88-a5de-01ca74176b78",
   "metadata": {},
   "outputs": [],
   "source": [
    "from sklearn.preprocessing import MinMaxScaler,StandardScaler\n",
    "minmax=MinMaxScaler()\n",
    "data['TSH']=minmax.fit_transform(data[['TSH']])\n",
    "data['T3']=minmax.fit_transform(data[['T3']])\n",
    "data['TT4']=minmax.fit_transform(data[['TT4']])\n",
    "data['FTI']=minmax.fit_transform(data[['FTI']])\n",
    "data['T4U']=minmax.fit_transform(data[['FTI']])\n"
   ]
  },
  {
   "cell_type": "code",
   "execution_count": 780,
   "id": "07897d37-8d9f-4d46-9ea3-eb2bda89603c",
   "metadata": {},
   "outputs": [
    {
     "data": {
      "text/html": [
       "<div>\n",
       "<style scoped>\n",
       "    .dataframe tbody tr th:only-of-type {\n",
       "        vertical-align: middle;\n",
       "    }\n",
       "\n",
       "    .dataframe tbody tr th {\n",
       "        vertical-align: top;\n",
       "    }\n",
       "\n",
       "    .dataframe thead th {\n",
       "        text-align: right;\n",
       "    }\n",
       "</style>\n",
       "<table border=\"1\" class=\"dataframe\">\n",
       "  <thead>\n",
       "    <tr style=\"text-align: right;\">\n",
       "      <th></th>\n",
       "      <th>age</th>\n",
       "      <th>sex</th>\n",
       "      <th>sick</th>\n",
       "      <th>pregnant</th>\n",
       "      <th>thyroid surgery</th>\n",
       "      <th>I131 treatment</th>\n",
       "      <th>goitre</th>\n",
       "      <th>tumor</th>\n",
       "      <th>TSH</th>\n",
       "      <th>T3</th>\n",
       "      <th>TT4</th>\n",
       "      <th>T4U</th>\n",
       "      <th>FTI</th>\n",
       "      <th>Outcome</th>\n",
       "    </tr>\n",
       "  </thead>\n",
       "  <tbody>\n",
       "    <tr>\n",
       "      <th>0</th>\n",
       "      <td>41</td>\n",
       "      <td>0</td>\n",
       "      <td>0</td>\n",
       "      <td>0</td>\n",
       "      <td>0</td>\n",
       "      <td>0</td>\n",
       "      <td>0</td>\n",
       "      <td>0</td>\n",
       "      <td>0.000000</td>\n",
       "      <td>0.0</td>\n",
       "      <td>0.0</td>\n",
       "      <td>0.272265</td>\n",
       "      <td>0.272265</td>\n",
       "      <td>1</td>\n",
       "    </tr>\n",
       "    <tr>\n",
       "      <th>1</th>\n",
       "      <td>23</td>\n",
       "      <td>0</td>\n",
       "      <td>0</td>\n",
       "      <td>0</td>\n",
       "      <td>0</td>\n",
       "      <td>0</td>\n",
       "      <td>0</td>\n",
       "      <td>0</td>\n",
       "      <td>0.000000</td>\n",
       "      <td>0.0</td>\n",
       "      <td>0.0</td>\n",
       "      <td>0.274809</td>\n",
       "      <td>0.274809</td>\n",
       "      <td>1</td>\n",
       "    </tr>\n",
       "    <tr>\n",
       "      <th>2</th>\n",
       "      <td>46</td>\n",
       "      <td>1</td>\n",
       "      <td>0</td>\n",
       "      <td>0</td>\n",
       "      <td>0</td>\n",
       "      <td>0</td>\n",
       "      <td>0</td>\n",
       "      <td>0</td>\n",
       "      <td>0.000000</td>\n",
       "      <td>0.0</td>\n",
       "      <td>0.0</td>\n",
       "      <td>0.300254</td>\n",
       "      <td>0.300254</td>\n",
       "      <td>1</td>\n",
       "    </tr>\n",
       "    <tr>\n",
       "      <th>3</th>\n",
       "      <td>70</td>\n",
       "      <td>0</td>\n",
       "      <td>0</td>\n",
       "      <td>0</td>\n",
       "      <td>0</td>\n",
       "      <td>0</td>\n",
       "      <td>0</td>\n",
       "      <td>0</td>\n",
       "      <td>0.000000</td>\n",
       "      <td>0.0</td>\n",
       "      <td>1.0</td>\n",
       "      <td>0.274809</td>\n",
       "      <td>0.274809</td>\n",
       "      <td>1</td>\n",
       "    </tr>\n",
       "    <tr>\n",
       "      <th>4</th>\n",
       "      <td>70</td>\n",
       "      <td>0</td>\n",
       "      <td>0</td>\n",
       "      <td>0</td>\n",
       "      <td>0</td>\n",
       "      <td>0</td>\n",
       "      <td>0</td>\n",
       "      <td>0</td>\n",
       "      <td>0.000000</td>\n",
       "      <td>0.0</td>\n",
       "      <td>0.0</td>\n",
       "      <td>0.173028</td>\n",
       "      <td>0.173028</td>\n",
       "      <td>1</td>\n",
       "    </tr>\n",
       "    <tr>\n",
       "      <th>...</th>\n",
       "      <td>...</td>\n",
       "      <td>...</td>\n",
       "      <td>...</td>\n",
       "      <td>...</td>\n",
       "      <td>...</td>\n",
       "      <td>...</td>\n",
       "      <td>...</td>\n",
       "      <td>...</td>\n",
       "      <td>...</td>\n",
       "      <td>...</td>\n",
       "      <td>...</td>\n",
       "      <td>...</td>\n",
       "      <td>...</td>\n",
       "      <td>...</td>\n",
       "    </tr>\n",
       "    <tr>\n",
       "      <th>3767</th>\n",
       "      <td>30</td>\n",
       "      <td>0</td>\n",
       "      <td>0</td>\n",
       "      <td>0</td>\n",
       "      <td>0</td>\n",
       "      <td>0</td>\n",
       "      <td>0</td>\n",
       "      <td>1</td>\n",
       "      <td>0.166667</td>\n",
       "      <td>0.0</td>\n",
       "      <td>0.0</td>\n",
       "      <td>0.274809</td>\n",
       "      <td>0.274809</td>\n",
       "      <td>1</td>\n",
       "    </tr>\n",
       "    <tr>\n",
       "      <th>3768</th>\n",
       "      <td>68</td>\n",
       "      <td>0</td>\n",
       "      <td>0</td>\n",
       "      <td>0</td>\n",
       "      <td>0</td>\n",
       "      <td>0</td>\n",
       "      <td>0</td>\n",
       "      <td>0</td>\n",
       "      <td>0.000000</td>\n",
       "      <td>0.0</td>\n",
       "      <td>0.0</td>\n",
       "      <td>0.284987</td>\n",
       "      <td>0.284987</td>\n",
       "      <td>1</td>\n",
       "    </tr>\n",
       "    <tr>\n",
       "      <th>3769</th>\n",
       "      <td>74</td>\n",
       "      <td>0</td>\n",
       "      <td>0</td>\n",
       "      <td>0</td>\n",
       "      <td>0</td>\n",
       "      <td>0</td>\n",
       "      <td>0</td>\n",
       "      <td>0</td>\n",
       "      <td>0.166667</td>\n",
       "      <td>0.0</td>\n",
       "      <td>0.0</td>\n",
       "      <td>0.262087</td>\n",
       "      <td>0.262087</td>\n",
       "      <td>1</td>\n",
       "    </tr>\n",
       "    <tr>\n",
       "      <th>3770</th>\n",
       "      <td>72</td>\n",
       "      <td>1</td>\n",
       "      <td>0</td>\n",
       "      <td>0</td>\n",
       "      <td>0</td>\n",
       "      <td>0</td>\n",
       "      <td>0</td>\n",
       "      <td>0</td>\n",
       "      <td>0.000000</td>\n",
       "      <td>0.0</td>\n",
       "      <td>0.0</td>\n",
       "      <td>0.216285</td>\n",
       "      <td>0.216285</td>\n",
       "      <td>1</td>\n",
       "    </tr>\n",
       "    <tr>\n",
       "      <th>3771</th>\n",
       "      <td>64</td>\n",
       "      <td>0</td>\n",
       "      <td>0</td>\n",
       "      <td>0</td>\n",
       "      <td>0</td>\n",
       "      <td>0</td>\n",
       "      <td>0</td>\n",
       "      <td>0</td>\n",
       "      <td>0.000000</td>\n",
       "      <td>0.0</td>\n",
       "      <td>0.0</td>\n",
       "      <td>0.229008</td>\n",
       "      <td>0.229008</td>\n",
       "      <td>1</td>\n",
       "    </tr>\n",
       "  </tbody>\n",
       "</table>\n",
       "<p>3711 rows × 14 columns</p>\n",
       "</div>"
      ],
      "text/plain": [
       "      age  sex  sick  pregnant  thyroid surgery  I131 treatment  goitre  \\\n",
       "0      41    0     0         0                0               0       0   \n",
       "1      23    0     0         0                0               0       0   \n",
       "2      46    1     0         0                0               0       0   \n",
       "3      70    0     0         0                0               0       0   \n",
       "4      70    0     0         0                0               0       0   \n",
       "...   ...  ...   ...       ...              ...             ...     ...   \n",
       "3767   30    0     0         0                0               0       0   \n",
       "3768   68    0     0         0                0               0       0   \n",
       "3769   74    0     0         0                0               0       0   \n",
       "3770   72    1     0         0                0               0       0   \n",
       "3771   64    0     0         0                0               0       0   \n",
       "\n",
       "      tumor       TSH   T3  TT4       T4U       FTI  Outcome  \n",
       "0         0  0.000000  0.0  0.0  0.272265  0.272265        1  \n",
       "1         0  0.000000  0.0  0.0  0.274809  0.274809        1  \n",
       "2         0  0.000000  0.0  0.0  0.300254  0.300254        1  \n",
       "3         0  0.000000  0.0  1.0  0.274809  0.274809        1  \n",
       "4         0  0.000000  0.0  0.0  0.173028  0.173028        1  \n",
       "...     ...       ...  ...  ...       ...       ...      ...  \n",
       "3767      1  0.166667  0.0  0.0  0.274809  0.274809        1  \n",
       "3768      0  0.000000  0.0  0.0  0.284987  0.284987        1  \n",
       "3769      0  0.166667  0.0  0.0  0.262087  0.262087        1  \n",
       "3770      0  0.000000  0.0  0.0  0.216285  0.216285        1  \n",
       "3771      0  0.000000  0.0  0.0  0.229008  0.229008        1  \n",
       "\n",
       "[3711 rows x 14 columns]"
      ]
     },
     "execution_count": 780,
     "metadata": {},
     "output_type": "execute_result"
    }
   ],
   "source": [
    "data"
   ]
  },
  {
   "cell_type": "code",
   "execution_count": 781,
   "id": "35ae82d6-c654-41d3-8771-4e21deb48905",
   "metadata": {},
   "outputs": [],
   "source": [
    "from sklearn.model_selection import train_test_split\n",
    "from sklearn.ensemble import RandomForestClassifier\n",
    "from sklearn.metrics import accuracy_score, classification_report\n"
   ]
  },
  {
   "cell_type": "code",
   "execution_count": 782,
   "id": "4407b7e9-656c-4610-90f0-9e083026c557",
   "metadata": {},
   "outputs": [
    {
     "name": "stdout",
     "output_type": "stream",
     "text": [
      "Model Accuracy: 97.98%\n",
      "\n",
      " Classification Report:\n",
      "              precision    recall  f1-score   support\n",
      "\n",
      "           0       0.81      0.98      0.89        62\n",
      "           1       1.00      0.98      0.99       681\n",
      "\n",
      "    accuracy                           0.98       743\n",
      "   macro avg       0.91      0.98      0.94       743\n",
      "weighted avg       0.98      0.98      0.98       743\n",
      "\n"
     ]
    }
   ],
   "source": [
    "X=data.drop(columns=['Outcome'])\n",
    "y=data['Outcome']\n",
    "X_train, X_test, y_train, y_test = train_test_split(X, y, test_size=0.2, random_state=42)\n",
    "\n",
    "model=RandomForestClassifier(n_estimators=100,random_state=40)\n",
    "model.fit(X_train,y_train)\n",
    "\n",
    "y_predict=model.predict(X_test)\n",
    "\n",
    "accuracy=accuracy_score(y_test, y_predict)\n",
    "print(f\"Model Accuracy: {accuracy * 100:.2f}%\")\n",
    "\n",
    "print(\"\\n Classification Report:\")\n",
    "print(classification_report(y_test,y_predict))"
   ]
  },
  {
   "cell_type": "code",
   "execution_count": null,
   "id": "b3fe0f7c-20cb-4640-9d2d-b8b279e2020a",
   "metadata": {},
   "outputs": [],
   "source": []
  },
  {
   "cell_type": "code",
   "execution_count": 783,
   "id": "582bb525-1ada-4c1d-b48e-f722b59bbfdd",
   "metadata": {},
   "outputs": [],
   "source": [
    "data=data.drop(columns=['TT4','T4U'])"
   ]
  },
  {
   "cell_type": "code",
   "execution_count": 784,
   "id": "8b5da38b-3ee6-43e2-897c-274e787b3970",
   "metadata": {},
   "outputs": [
    {
     "name": "stdout",
     "output_type": "stream",
     "text": [
      "Model Accuracy: 97.17%\n",
      "\n",
      " Classification Report:\n",
      "              precision    recall  f1-score   support\n",
      "\n",
      "           0       0.77      0.94      0.85        62\n",
      "           1       0.99      0.98      0.98       681\n",
      "\n",
      "    accuracy                           0.97       743\n",
      "   macro avg       0.88      0.96      0.92       743\n",
      "weighted avg       0.98      0.97      0.97       743\n",
      "\n"
     ]
    }
   ],
   "source": [
    "X=data.drop(columns=['Outcome'])\n",
    "y=data['Outcome']\n",
    "X_train, X_test, y_train, y_test = train_test_split(X, y, test_size=0.2, random_state=42)\n",
    "\n",
    "model=RandomForestClassifier(n_estimators=100,random_state=40)\n",
    "model.fit(X_train,y_train)\n",
    "\n",
    "y_predict=model.predict(X_test)\n",
    "\n",
    "accuracy=accuracy_score(y_test, y_predict)\n",
    "print(f\"Model Accuracy: {accuracy * 100:.2f}%\")\n",
    "\n",
    "print(\"\\n Classification Report:\")\n",
    "print(classification_report(y_test,y_predict))"
   ]
  },
  {
   "cell_type": "code",
   "execution_count": null,
   "id": "c1ed6fa1-2466-4d58-8f2a-e8998564feb1",
   "metadata": {},
   "outputs": [],
   "source": []
  }
 ],
 "metadata": {
  "kernelspec": {
   "display_name": "Python 3 (ipykernel)",
   "language": "python",
   "name": "python3"
  },
  "language_info": {
   "codemirror_mode": {
    "name": "ipython",
    "version": 3
   },
   "file_extension": ".py",
   "mimetype": "text/x-python",
   "name": "python",
   "nbconvert_exporter": "python",
   "pygments_lexer": "ipython3",
   "version": "3.12.4"
  }
 },
 "nbformat": 4,
 "nbformat_minor": 5
}
